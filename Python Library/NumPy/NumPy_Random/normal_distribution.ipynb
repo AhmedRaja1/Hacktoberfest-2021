{
 "cells": [
  {
   "cell_type": "markdown",
   "id": "d46c2519",
   "metadata": {},
   "source": [
    "# Normal(Gaussian) Distribution\n",
    "The Normal Distribution is one of the most important distributions.\n",
    "\n",
    "It is also called the Gaussian Distribution after the German mathematician Carl Friedrich Gauss.\n",
    "\n",
    "It fits the probability distribution of many events, eg. IQ Scores, Heartbeat etc.\n",
    "\n",
    "Use the random.normal() method to get a Normal Data Distribution.\n",
    "\n",
    "It has three parameters:\n",
    "\n",
    "#### loc - (Mean) where the peak of the bell exists.\n",
    "\n",
    "#### scale - (Standard Deviation) how flat the graph distribution should be.\n",
    "\n",
    "#### size - The shape of the returned array."
   ]
  },
  {
   "cell_type": "code",
   "execution_count": 1,
   "id": "f14f6580",
   "metadata": {},
   "outputs": [],
   "source": [
    "from numpy import random"
   ]
  },
  {
   "cell_type": "code",
   "execution_count": 2,
   "id": "fd0c4f32",
   "metadata": {},
   "outputs": [
    {
     "data": {
      "text/plain": [
       "array([[-0.33512073, -0.29242355,  0.74111805],\n",
       "       [-0.62425962,  0.13276875, -0.5063436 ]])"
      ]
     },
     "execution_count": 2,
     "metadata": {},
     "output_type": "execute_result"
    }
   ],
   "source": [
    "x = random.normal(size=(2, 3))\n",
    "x"
   ]
  },
  {
   "cell_type": "markdown",
   "id": "15854f68",
   "metadata": {},
   "source": [
    "### Generate a random normal distribution of size 2x3 with mean at 1 and standard deviation of 2:"
   ]
  },
  {
   "cell_type": "code",
   "execution_count": 5,
   "id": "fa663417",
   "metadata": {},
   "outputs": [
    {
     "data": {
      "text/plain": [
       "array([[ 0.06026059,  2.3680958 , -1.83050789],\n",
       "       [ 1.3808213 ,  0.97301969,  1.58651615]])"
      ]
     },
     "execution_count": 5,
     "metadata": {},
     "output_type": "execute_result"
    }
   ],
   "source": [
    "x = random.normal(loc=1, scale=2, size=(2, 3))\n",
    "x"
   ]
  },
  {
   "cell_type": "markdown",
   "id": "9dee4f0f",
   "metadata": {},
   "source": [
    "## Visualization of Normal Distribution"
   ]
  },
  {
   "cell_type": "code",
   "execution_count": 6,
   "id": "51d628b1",
   "metadata": {},
   "outputs": [],
   "source": [
    "import seaborn as sns\n",
    "import matplotlib.pyplot as plt"
   ]
  },
  {
   "cell_type": "code",
   "execution_count": 11,
   "id": "dddfea00",
   "metadata": {
    "scrolled": true
   },
   "outputs": [
    {
     "name": "stderr",
     "output_type": "stream",
     "text": [
      "/Users/sudaisalam/Library/Python/3.7/lib/python/site-packages/seaborn/distributions.py:2619: FutureWarning: `distplot` is a deprecated function and will be removed in a future version. Please adapt your code to use either `displot` (a figure-level function with similar flexibility) or `kdeplot` (an axes-level function for kernel density plots).\n",
      "  warnings.warn(msg, FutureWarning)\n"
     ]
    },
    {
     "data": {
      "image/png": "[encoded data removed]",
      "text/plain": [
       "<Figure size 432x288 with 1 Axes>"
      ]
     },
     "metadata": {
      "needs_background": "light"
     },
     "output_type": "display_data"
    }
   ],
   "source": [
    "sns.distplot(random.normal(size=(1000), loc=3, scale=2), hist=False)\n",
    "plt.show()"
   ]
  },
  {
   "cell_type": "markdown",
   "id": "5b42662b",
   "metadata": {},
   "source": [
    "#### Note: The curve of a Normal Distribution is also known as the Bell Curve because of the bell-shaped curve."
   ]
  }
 ],
 "metadata": {
  "kernelspec": {
   "display_name": "Python 3 (ipykernel)",
   "language": "python",
   "name": "python3"
  },
  "language_info": {
   "codemirror_mode": {
    "name": "ipython",
    "version": 3
   },
   "file_extension": ".py",
   "mimetype": "text/x-python",
   "name": "python",
   "nbconvert_exporter": "python",
   "pygments_lexer": "ipython3",
   "version": "3.7.3"
  }
 },
 "nbformat": 4,
 "nbformat_minor": 5
}
