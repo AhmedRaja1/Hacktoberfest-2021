{
 "cells": [
  {
   "cell_type": "markdown",
   "id": "785aa831",
   "metadata": {},
   "source": [
    "# Let's start by importing essential libraries"
   ]
  },
  {
   "cell_type": "code",
   "execution_count": 1,
   "id": "c8b073d1",
   "metadata": {},
   "outputs": [],
   "source": [
    "import pandas as pd\n",
    "import numpy as np\n",
    "\n",
    "from sklearn.model_selection import train_test_split\n",
    "from sklearn.ensemble import RandomForestRegressor\n",
    "from sklearn.metrics import accuracy_score\n",
    "from sklearn.metrics import mean_absolute_error\n",
    "\n",
    "import matplotlib.pyplot as plt"
   ]
  },
  {
   "cell_type": "markdown",
   "id": "24234916",
   "metadata": {},
   "source": [
    "### Read the csv file"
   ]
  },
  {
   "cell_type": "code",
   "execution_count": 3,
   "id": "fd8f4bcd",
   "metadata": {},
   "outputs": [
    {
     "data": {
      "text/html": [
       "<div>\n",
       "<style scoped>\n",
       "    .dataframe tbody tr th:only-of-type {\n",
       "        vertical-align: middle;\n",
       "    }\n",
       "\n",
       "    .dataframe tbody tr th {\n",
       "        vertical-align: top;\n",
       "    }\n",
       "\n",
       "    .dataframe thead th {\n",
       "        text-align: right;\n",
       "    }\n",
       "</style>\n",
       "<table border=\"1\" class=\"dataframe\">\n",
       "  <thead>\n",
       "    <tr style=\"text-align: right;\">\n",
       "      <th></th>\n",
       "      <th>Pregnancies</th>\n",
       "      <th>Glucose</th>\n",
       "      <th>BloodPressure</th>\n",
       "      <th>SkinThickness</th>\n",
       "      <th>Insulin</th>\n",
       "      <th>BMI</th>\n",
       "      <th>DiabetesPedigreeFunction</th>\n",
       "      <th>Age</th>\n",
       "      <th>Outcome</th>\n",
       "    </tr>\n",
       "  </thead>\n",
       "  <tbody>\n",
       "    <tr>\n",
       "      <th>0</th>\n",
       "      <td>6</td>\n",
       "      <td>148</td>\n",
       "      <td>72</td>\n",
       "      <td>35</td>\n",
       "      <td>0</td>\n",
       "      <td>33.6</td>\n",
       "      <td>0.627</td>\n",
       "      <td>50</td>\n",
       "      <td>1</td>\n",
       "    </tr>\n",
       "    <tr>\n",
       "      <th>1</th>\n",
       "      <td>1</td>\n",
       "      <td>85</td>\n",
       "      <td>66</td>\n",
       "      <td>29</td>\n",
       "      <td>0</td>\n",
       "      <td>26.6</td>\n",
       "      <td>0.351</td>\n",
       "      <td>31</td>\n",
       "      <td>0</td>\n",
       "    </tr>\n",
       "    <tr>\n",
       "      <th>2</th>\n",
       "      <td>8</td>\n",
       "      <td>183</td>\n",
       "      <td>64</td>\n",
       "      <td>0</td>\n",
       "      <td>0</td>\n",
       "      <td>23.3</td>\n",
       "      <td>0.672</td>\n",
       "      <td>32</td>\n",
       "      <td>1</td>\n",
       "    </tr>\n",
       "    <tr>\n",
       "      <th>3</th>\n",
       "      <td>1</td>\n",
       "      <td>89</td>\n",
       "      <td>66</td>\n",
       "      <td>23</td>\n",
       "      <td>94</td>\n",
       "      <td>28.1</td>\n",
       "      <td>0.167</td>\n",
       "      <td>21</td>\n",
       "      <td>0</td>\n",
       "    </tr>\n",
       "    <tr>\n",
       "      <th>4</th>\n",
       "      <td>0</td>\n",
       "      <td>137</td>\n",
       "      <td>40</td>\n",
       "      <td>35</td>\n",
       "      <td>168</td>\n",
       "      <td>43.1</td>\n",
       "      <td>2.288</td>\n",
       "      <td>33</td>\n",
       "      <td>1</td>\n",
       "    </tr>\n",
       "  </tbody>\n",
       "</table>\n",
       "</div>"
      ],
      "text/plain": [
       "   Pregnancies  Glucose  BloodPressure  SkinThickness  Insulin   BMI  \\\n",
       "0            6      148             72             35        0  33.6   \n",
       "1            1       85             66             29        0  26.6   \n",
       "2            8      183             64              0        0  23.3   \n",
       "3            1       89             66             23       94  28.1   \n",
       "4            0      137             40             35      168  43.1   \n",
       "\n",
       "   DiabetesPedigreeFunction  Age  Outcome  \n",
       "0                     0.627   50        1  \n",
       "1                     0.351   31        0  \n",
       "2                     0.672   32        1  \n",
       "3                     0.167   21        0  \n",
       "4                     2.288   33        1  "
      ]
     },
     "execution_count": 3,
     "metadata": {},
     "output_type": "execute_result"
    }
   ],
   "source": [
    "data = pd.read_csv(\"diabetes.csv\")\n",
    "data.head()"
   ]
  },
  {
   "cell_type": "markdown",
   "id": "daa64605",
   "metadata": {},
   "source": [
    "### Checking for missing value columns"
   ]
  },
  {
   "cell_type": "code",
   "execution_count": 4,
   "id": "f9a65231",
   "metadata": {},
   "outputs": [
    {
     "data": {
      "text/plain": [
       "[]"
      ]
     },
     "execution_count": 4,
     "metadata": {},
     "output_type": "execute_result"
    }
   ],
   "source": [
    "missing_cols = [mis for mis in data.columns if data[mis].isnull().any()]\n",
    "missing_cols"
   ]
  },
  {
   "cell_type": "markdown",
   "id": "c7290143",
   "metadata": {},
   "source": [
    "## That's Good!. \n",
    "\n",
    "#### There are no missing values. Let's move forward.\n"
   ]
  },
  {
   "cell_type": "code",
   "execution_count": 5,
   "id": "e647b151",
   "metadata": {},
   "outputs": [
    {
     "data": {
      "text/plain": [
       "['Pregnancies',\n",
       " 'Glucose',\n",
       " 'BloodPressure',\n",
       " 'SkinThickness',\n",
       " 'Insulin',\n",
       " 'BMI',\n",
       " 'DiabetesPedigreeFunction',\n",
       " 'Age',\n",
       " 'Outcome']"
      ]
     },
     "execution_count": 5,
     "metadata": {},
     "output_type": "execute_result"
    }
   ],
   "source": [
    "num_cols = [num for num in data.columns if data[num].dtype in ['int64', 'float64']]\n",
    "num_cols"
   ]
  },
  {
   "cell_type": "markdown",
   "id": "06190df9",
   "metadata": {},
   "source": [
    "#### The Features that could affect if a person is having diabetes or not are,"
   ]
  },
  {
   "cell_type": "code",
   "execution_count": 6,
   "id": "25b3bf23",
   "metadata": {},
   "outputs": [],
   "source": [
    "features = ['Pregnancies',\n",
    " 'Glucose',\n",
    " 'BloodPressure',\n",
    " 'SkinThickness',\n",
    " 'Insulin',\n",
    " 'BMI',\n",
    " 'DiabetesPedigreeFunction',\n",
    " 'Age']"
   ]
  },
  {
   "cell_type": "markdown",
   "id": "77b72ea5",
   "metadata": {},
   "source": [
    "### We didn't include the Insulin factor as it shows uncommon behavior in the charts.\n",
    "\n",
    "### The target variable y"
   ]
  },
  {
   "cell_type": "code",
   "execution_count": 7,
   "id": "3fa00cdc",
   "metadata": {},
   "outputs": [],
   "source": [
    "y = data.Outcome\n",
    "X = data[features]"
   ]
  },
  {
   "cell_type": "code",
   "execution_count": 200,
   "id": "84ad78d8",
   "metadata": {},
   "outputs": [],
   "source": [
    "X_train, X_valid, y_train, y_valid = train_test_split(X, y, test_size=0.2, train_size=0.8)"
   ]
  },
  {
   "cell_type": "code",
   "execution_count": 201,
   "id": "4badc55a",
   "metadata": {},
   "outputs": [],
   "source": [
    "model = RandomForestRegressor(n_estimators=100, random_state=1)"
   ]
  },
  {
   "cell_type": "code",
   "execution_count": 202,
   "id": "ba5f7704",
   "metadata": {},
   "outputs": [
    {
     "data": {
      "text/plain": [
       "RandomForestRegressor(random_state=1)"
      ]
     },
     "execution_count": 202,
     "metadata": {},
     "output_type": "execute_result"
    }
   ],
   "source": [
    "model.fit(X_train, y_train)"
   ]
  },
  {
   "cell_type": "code",
   "execution_count": 203,
   "id": "ddd320f5",
   "metadata": {},
   "outputs": [],
   "source": [
    "preds = model.predict(X_valid)\n",
    "A = np.around(preds)\n",
    "predictions = A.astype(int)"
   ]
  },
  {
   "cell_type": "code",
   "execution_count": 207,
   "id": "e1b1ed12",
   "metadata": {},
   "outputs": [
    {
     "name": "stdout",
     "output_type": "stream",
     "text": [
      "Accuracy =  81.16883116883116 %\n"
     ]
    }
   ],
   "source": [
    "accuracy = accuracy_score(y_valid, predictions)\n",
    "print(\"Accuracy = \", accuracy * 100 , \"%\")"
   ]
  },
  {
   "cell_type": "code",
   "execution_count": 208,
   "id": "af543ad4",
   "metadata": {},
   "outputs": [
    {
     "name": "stdout",
     "output_type": "stream",
     "text": [
      "mae = 18.83116883116883 %\n"
     ]
    }
   ],
   "source": [
    "mae = mean_absolute_error(y_valid, predictions)\n",
    "print(\"mae =\", mae*100, \"%\")"
   ]
  },
  {
   "cell_type": "code",
   "execution_count": null,
   "id": "3f61907d",
   "metadata": {},
   "outputs": [],
   "source": []
  }
 ],
 "metadata": {
  "kernelspec": {
   "display_name": "Python 3 (ipykernel)",
   "language": "python",
   "name": "python3"
  },
  "language_info": {
   "codemirror_mode": {
    "name": "ipython",
    "version": 3
   },
   "file_extension": ".py",
   "mimetype": "text/x-python",
   "name": "python",
   "nbconvert_exporter": "python",
   "pygments_lexer": "ipython3",
   "version": "3.7.3"
  }
 },
 "nbformat": 4,
 "nbformat_minor": 5
}
